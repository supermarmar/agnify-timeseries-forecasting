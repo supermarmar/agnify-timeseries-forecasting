{
 "cells": [
  {
   "cell_type": "code",
   "execution_count": 312,
   "metadata": {},
   "outputs": [],
   "source": [
    "import os\n",
    "import sys\n",
    "import pandas as pd\n",
    "import numpy as np\n"
   ]
  },
  {
   "cell_type": "code",
   "execution_count": 313,
   "metadata": {},
   "outputs": [],
   "source": [
    "ABS_PATH = r\"C:\\Users\\mario\\OneDrive\\Documents\\Work\\Clients\\Agnify\\3. Models\\Pre-Credit Score\\1. Yield Consistency\"\n",
    "INPUT_PATH = f\"{ABS_PATH}\\\\2. Data Science\"\n",
    "OUTPUT_PATH = f\"{ABS_PATH}\\\\3. Data Analysis\"\n",
    "\n",
    "DELIVERY_MODEL_PATH = f\"{INPUT_PATH}\\\\Delivery\"\n",
    "AREA_MODEL_PATH = f\"{INPUT_PATH}\\\\Area\"\n",
    "PRODUCTION_MODEL_PATH = f\"{INPUT_PATH}\\\\Production\"\n",
    "\n",
    "YEAR = 2025"
   ]
  },
  {
   "cell_type": "code",
   "execution_count": 314,
   "metadata": {},
   "outputs": [],
   "source": [
    "# Add the parent directory to sys.path\n",
    "sys.path.append(ABS_PATH)\n",
    "from io_data_model import load_model"
   ]
  },
  {
   "cell_type": "code",
   "execution_count": 315,
   "metadata": {},
   "outputs": [],
   "source": [
    "analysis_inputs = {\n",
    "    'Soya': {\n",
    "        'delivery_model': 'soya_model',\n",
    "        'production_model': 'soya_province_splits.xlsx',\n",
    "        'area_model': 'soya_province_areas.xlsx',\n",
    "    },\n",
    "    'Sunflower': {\n",
    "        'delivery_model': 'sunflower_model',\n",
    "        'production_model': 'sunflower_province_splits.xlsx',\n",
    "        'area_model': 'sunflower_province_areas.xlsx',\n",
    "    },\n",
    "    'White Maize': {\n",
    "        'delivery_model': 'white_maize_model',\n",
    "        'production_model': 'white_maize_province_splits.xlsx',\n",
    "        'area_model': 'white_maize_province_areas.xlsx',\n",
    "    },\n",
    "    'Yellow Maize': {\n",
    "        'delivery_model': 'yellow_maize_model',\n",
    "        'production_model': 'yellow_maize_province_splits.xlsx',\n",
    "        'area_model': 'yellow_maize_province_areas.xlsx',\n",
    "    },\n",
    "}\n"
   ]
  },
  {
   "cell_type": "code",
   "execution_count": 316,
   "metadata": {},
   "outputs": [],
   "source": [
    "def process_delivery_data(delivery_model):\n",
    "    loaded_model = load_model(DELIVERY_MODEL_PATH, delivery_model)\n",
    "\n",
    "    # Forecasting for the test period\n",
    "    forecast = loaded_model.forecast(steps=52 * 10)\n",
    "\n",
    "    delivery_df = forecast.to_frame()\n",
    "    delivery_df.rename(columns={\"predicted_mean\": \"Weekly Production\"}, inplace=True)\n",
    "    delivery_df = delivery_df[delivery_df.index.year == YEAR]\n",
    "    delivery_df.reset_index(inplace=True)\n",
    "    delivery_df.rename(columns={\"index\": \"Date\"}, inplace=True)\n",
    "\n",
    "    delivery_df['Weekly Production'] = np.where(delivery_df['Weekly Production'] < 0, 0, delivery_df['Weekly Production'])\n",
    "    \n",
    "    return delivery_df\n"
   ]
  },
  {
   "cell_type": "code",
   "execution_count": 317,
   "metadata": {},
   "outputs": [],
   "source": [
    "def calculate_weekly_production_by_province(delivery_df, production_model):\n",
    "    os.chdir(PRODUCTION_MODEL_PATH)\n",
    "    province_split_df = pd.read_excel(production_model)\n",
    "    province_split_df.drop(columns=[\"Date\"], inplace=True)\n",
    "    \n",
    "    province_split_df[\"Percentage Split\"] = province_split_df[\"Percentage Split\"] / 100\n",
    "    cross_join_df = pd.merge(province_split_df, delivery_df, how=\"cross\")\n",
    "    cross_join_df[\"Weekly Production by Province\"] = (\n",
    "        cross_join_df[\"Weekly Production\"] * cross_join_df[\"Percentage Split\"]\n",
    "    )\n",
    "    return cross_join_df"
   ]
  },
  {
   "cell_type": "code",
   "execution_count": 318,
   "metadata": {},
   "outputs": [],
   "source": [
    "def calculate_weekly_yield_by_province(cross_join_df, area_model): \n",
    "    os.chdir(AREA_MODEL_PATH)   \n",
    "    areas_df = pd.read_excel(area_model)\n",
    "    areas_df.drop(columns=[\"Date\"], inplace=True)\n",
    "\n",
    "    weekly_yield_df = pd.merge(cross_join_df, areas_df, how=\"inner\", on=\"Province\")\n",
    "\n",
    "    total_delivery_by_province = weekly_yield_df.groupby(\"Province\")[\"Weekly Production by Province\"].sum()\n",
    "    total_delivery_by_province = total_delivery_by_province.reset_index()\n",
    "    total_delivery_by_province.rename(columns={\"Weekly Production by Province\": \"Total Weekly Production by Province\"}, inplace=True)\n",
    "\n",
    "    weekly_yield_df = pd.merge(weekly_yield_df, total_delivery_by_province, how=\"inner\", on=\"Province\")\n",
    "\n",
    "    weekly_yield_df[\"Weekly Area\"] = (\n",
    "        weekly_yield_df[\"Weekly Production by Province\"] / weekly_yield_df[\"Total Weekly Production by Province\"]\n",
    "    ) * weekly_yield_df[\"Area (Hectares)\"]\n",
    "        \n",
    "    weekly_yield_df[\"Weekly Yield by Province\"] = weekly_yield_df[\n",
    "        \"Weekly Production by Province\"\n",
    "    ] / (weekly_yield_df[\"Weekly Area\"])\n",
    "    weekly_yield_df.fillna(0, inplace=True)\n",
    "    weekly_yield_df.replace([float(\"inf\"), -float(\"inf\")], 0, inplace=True)\n",
    "\n",
    "    return weekly_yield_df"
   ]
  },
  {
   "cell_type": "code",
   "execution_count": 319,
   "metadata": {},
   "outputs": [],
   "source": [
    "def weekly_yield(crop, inputs):\n",
    "    delivery_model = inputs['delivery_model']\n",
    "    production_model = inputs['production_model']\n",
    "    area_model = inputs['area_model']\n",
    "\n",
    "    delivery_df = process_delivery_data(delivery_model)\n",
    "    cross_join_df = calculate_weekly_production_by_province(delivery_df, production_model)\n",
    "    weekly_yield_df = calculate_weekly_yield_by_province(cross_join_df, area_model)\n",
    "\n",
    "    weekly_yield_df = weekly_yield_df[[\"Date\", \"Province\", \"Weekly Production by Province\",\"Weekly Area\",\"Weekly Yield by Province\"]]\n",
    "    weekly_yield_df[\"Crop\"] = crop\n",
    "\n",
    "    return weekly_yield_df"
   ]
  },
  {
   "cell_type": "code",
   "execution_count": 320,
   "metadata": {},
   "outputs": [
    {
     "name": "stdout",
     "output_type": "stream",
     "text": [
      "Soya\n",
      "Sunflower\n",
      "White Maize\n",
      "Yellow Maize\n"
     ]
    },
    {
     "data": {
      "text/html": [
       "<div>\n",
       "<style scoped>\n",
       "    .dataframe tbody tr th:only-of-type {\n",
       "        vertical-align: middle;\n",
       "    }\n",
       "\n",
       "    .dataframe tbody tr th {\n",
       "        vertical-align: top;\n",
       "    }\n",
       "\n",
       "    .dataframe thead th {\n",
       "        text-align: right;\n",
       "    }\n",
       "</style>\n",
       "<table border=\"1\" class=\"dataframe\">\n",
       "  <thead>\n",
       "    <tr style=\"text-align: right;\">\n",
       "      <th></th>\n",
       "      <th>Date</th>\n",
       "      <th>Province</th>\n",
       "      <th>Weekly Production by Province</th>\n",
       "      <th>Weekly Area</th>\n",
       "      <th>Weekly Yield by Province</th>\n",
       "      <th>Crop</th>\n",
       "    </tr>\n",
       "  </thead>\n",
       "  <tbody>\n",
       "    <tr>\n",
       "      <th>0</th>\n",
       "      <td>2025-01-05</td>\n",
       "      <td>Northern Cape</td>\n",
       "      <td>2.616257</td>\n",
       "      <td>0.826580</td>\n",
       "      <td>3.16516</td>\n",
       "      <td>Soya</td>\n",
       "    </tr>\n",
       "    <tr>\n",
       "      <th>1</th>\n",
       "      <td>2025-01-12</td>\n",
       "      <td>Northern Cape</td>\n",
       "      <td>2.840315</td>\n",
       "      <td>0.897369</td>\n",
       "      <td>3.16516</td>\n",
       "      <td>Soya</td>\n",
       "    </tr>\n",
       "    <tr>\n",
       "      <th>2</th>\n",
       "      <td>2025-01-19</td>\n",
       "      <td>Northern Cape</td>\n",
       "      <td>3.509722</td>\n",
       "      <td>1.108861</td>\n",
       "      <td>3.16516</td>\n",
       "      <td>Soya</td>\n",
       "    </tr>\n",
       "    <tr>\n",
       "      <th>3</th>\n",
       "      <td>2025-01-26</td>\n",
       "      <td>Northern Cape</td>\n",
       "      <td>3.812049</td>\n",
       "      <td>1.204378</td>\n",
       "      <td>3.16516</td>\n",
       "      <td>Soya</td>\n",
       "    </tr>\n",
       "    <tr>\n",
       "      <th>4</th>\n",
       "      <td>2025-02-02</td>\n",
       "      <td>Northern Cape</td>\n",
       "      <td>4.033026</td>\n",
       "      <td>1.274193</td>\n",
       "      <td>3.16516</td>\n",
       "      <td>Soya</td>\n",
       "    </tr>\n",
       "  </tbody>\n",
       "</table>\n",
       "</div>"
      ],
      "text/plain": [
       "        Date       Province  Weekly Production by Province  Weekly Area  \\\n",
       "0 2025-01-05  Northern Cape                       2.616257     0.826580   \n",
       "1 2025-01-12  Northern Cape                       2.840315     0.897369   \n",
       "2 2025-01-19  Northern Cape                       3.509722     1.108861   \n",
       "3 2025-01-26  Northern Cape                       3.812049     1.204378   \n",
       "4 2025-02-02  Northern Cape                       4.033026     1.274193   \n",
       "\n",
       "   Weekly Yield by Province  Crop  \n",
       "0                   3.16516  Soya  \n",
       "1                   3.16516  Soya  \n",
       "2                   3.16516  Soya  \n",
       "3                   3.16516  Soya  \n",
       "4                   3.16516  Soya  "
      ]
     },
     "execution_count": 320,
     "metadata": {},
     "output_type": "execute_result"
    }
   ],
   "source": [
    "final_weekly_yield_df = pd.DataFrame()\n",
    "for crop, inputs in analysis_inputs.items():\n",
    "    weekly_yield_df = weekly_yield(crop, inputs)\n",
    "    final_weekly_yield_df = pd.concat([final_weekly_yield_df, weekly_yield_df])\n",
    "    print(crop)\n",
    "\n",
    "final_weekly_yield_df.head()"
   ]
  },
  {
   "cell_type": "code",
   "execution_count": 321,
   "metadata": {},
   "outputs": [
    {
     "name": "stdout",
     "output_type": "stream",
     "text": [
      "<class 'pandas.core.frame.DataFrame'>\n",
      "Index: 1872 entries, 0 to 467\n",
      "Data columns (total 6 columns):\n",
      " #   Column                         Non-Null Count  Dtype         \n",
      "---  ------                         --------------  -----         \n",
      " 0   Date                           1872 non-null   datetime64[ns]\n",
      " 1   Province                       1872 non-null   object        \n",
      " 2   Weekly Production by Province  1872 non-null   float64       \n",
      " 3   Weekly Area                    1872 non-null   float64       \n",
      " 4   Weekly Yield by Province       1872 non-null   float64       \n",
      " 5   Crop                           1872 non-null   object        \n",
      "dtypes: datetime64[ns](1), float64(3), object(2)\n",
      "memory usage: 102.4+ KB\n"
     ]
    }
   ],
   "source": [
    "final_weekly_yield_df.info()"
   ]
  },
  {
   "cell_type": "code",
   "execution_count": 322,
   "metadata": {},
   "outputs": [],
   "source": [
    "def calculate_annual_production_by_province(delivery_df, production_model):\n",
    "    os.chdir(PRODUCTION_MODEL_PATH)\n",
    "    province_split_df = pd.read_excel(production_model)\n",
    "    province_split_df.drop(columns=[\"Date\"], inplace=True)\n",
    "    province_split_df[\"Percentage Split\"] = province_split_df[\"Percentage Split\"] / 100\n",
    "\n",
    "    annual_delivery_df = delivery_df.groupby(delivery_df.index.year).sum()\n",
    "\n",
    "    cross_join_df = pd.merge(province_split_df, annual_delivery_df, how=\"cross\")\n",
    "    cross_join_df[\"Annual Production by Province\"] = (\n",
    "        cross_join_df[\"Weekly Production\"] * cross_join_df[\"Percentage Split\"]\n",
    "    )\n",
    "\n",
    "    return cross_join_df"
   ]
  },
  {
   "cell_type": "code",
   "execution_count": 323,
   "metadata": {},
   "outputs": [],
   "source": [
    "def calculate_annual_yield_by_province(cross_join_df, area_model): \n",
    "    os.chdir(AREA_MODEL_PATH)   \n",
    "    areas_df = pd.read_excel(area_model)\n",
    "    areas_df.drop(columns=[\"Date\"], inplace=True)\n",
    "\n",
    "    annual_yield_df = pd.merge(cross_join_df, areas_df, how=\"inner\", on=\"Province\")\n",
    "    annual_yield_df[\"Annual Yield by Province\"] = annual_yield_df[\n",
    "        \"Annual Production by Province\"\n",
    "    ] / (annual_yield_df[\"Area (Hectares)\"])\n",
    "    annual_yield_df.fillna(0, inplace=True)\n",
    "    annual_yield_df.replace([float(\"inf\"), -float(\"inf\")], 0, inplace=True)\n",
    "\n",
    "    return annual_yield_df"
   ]
  },
  {
   "cell_type": "code",
   "execution_count": 324,
   "metadata": {},
   "outputs": [],
   "source": [
    "def annual_yield(crop, inputs):\n",
    "    delivery_model = inputs['delivery_model']\n",
    "    production_model = inputs['production_model']\n",
    "    area_model = inputs['area_model']\n",
    "\n",
    "    delivery_df = process_delivery_data(delivery_model)\n",
    "    delivery_df.set_index(\"Date\", inplace=True)\n",
    "    cross_join_df = calculate_annual_production_by_province(delivery_df, production_model)\n",
    "    annual_yield_df = calculate_annual_yield_by_province(cross_join_df, area_model)\n",
    "\n",
    "    annual_yield_df = annual_yield_df[[\"Province\", \"Annual Yield by Province\"]]\n",
    "    annual_yield_df[\"Crop\"] = crop\n",
    "\n",
    "    return annual_yield_df"
   ]
  },
  {
   "cell_type": "code",
   "execution_count": 325,
   "metadata": {},
   "outputs": [
    {
     "name": "stdout",
     "output_type": "stream",
     "text": [
      "Soya\n",
      "Sunflower\n",
      "White Maize\n",
      "Yellow Maize\n"
     ]
    },
    {
     "data": {
      "text/html": [
       "<div>\n",
       "<style scoped>\n",
       "    .dataframe tbody tr th:only-of-type {\n",
       "        vertical-align: middle;\n",
       "    }\n",
       "\n",
       "    .dataframe tbody tr th {\n",
       "        vertical-align: top;\n",
       "    }\n",
       "\n",
       "    .dataframe thead th {\n",
       "        text-align: right;\n",
       "    }\n",
       "</style>\n",
       "<table border=\"1\" class=\"dataframe\">\n",
       "  <thead>\n",
       "    <tr style=\"text-align: right;\">\n",
       "      <th></th>\n",
       "      <th>Province</th>\n",
       "      <th>Annual Yield by Province</th>\n",
       "      <th>Crop</th>\n",
       "    </tr>\n",
       "  </thead>\n",
       "  <tbody>\n",
       "    <tr>\n",
       "      <th>0</th>\n",
       "      <td>Northern Cape</td>\n",
       "      <td>3.165160</td>\n",
       "      <td>Soya</td>\n",
       "    </tr>\n",
       "    <tr>\n",
       "      <th>1</th>\n",
       "      <td>Western Cape</td>\n",
       "      <td>0.000000</td>\n",
       "      <td>Soya</td>\n",
       "    </tr>\n",
       "    <tr>\n",
       "      <th>2</th>\n",
       "      <td>North West</td>\n",
       "      <td>1.679917</td>\n",
       "      <td>Soya</td>\n",
       "    </tr>\n",
       "    <tr>\n",
       "      <th>3</th>\n",
       "      <td>Gauteng</td>\n",
       "      <td>1.675912</td>\n",
       "      <td>Soya</td>\n",
       "    </tr>\n",
       "    <tr>\n",
       "      <th>4</th>\n",
       "      <td>Limpopo</td>\n",
       "      <td>3.115775</td>\n",
       "      <td>Soya</td>\n",
       "    </tr>\n",
       "  </tbody>\n",
       "</table>\n",
       "</div>"
      ],
      "text/plain": [
       "        Province  Annual Yield by Province  Crop\n",
       "0  Northern Cape                  3.165160  Soya\n",
       "1   Western Cape                  0.000000  Soya\n",
       "2     North West                  1.679917  Soya\n",
       "3        Gauteng                  1.675912  Soya\n",
       "4        Limpopo                  3.115775  Soya"
      ]
     },
     "execution_count": 325,
     "metadata": {},
     "output_type": "execute_result"
    }
   ],
   "source": [
    "final_annual_yield_df = pd.DataFrame()\n",
    "for crop, inputs in analysis_inputs.items():\n",
    "    annual_yield_df = annual_yield(crop, inputs)\n",
    "    final_annual_yield_df = pd.concat([final_annual_yield_df, annual_yield_df])\n",
    "    print(crop)\n",
    "\n",
    "final_annual_yield_df.head()"
   ]
  },
  {
   "cell_type": "code",
   "execution_count": 326,
   "metadata": {},
   "outputs": [
    {
     "name": "stdout",
     "output_type": "stream",
     "text": [
      "<class 'pandas.core.frame.DataFrame'>\n",
      "Index: 36 entries, 0 to 8\n",
      "Data columns (total 3 columns):\n",
      " #   Column                    Non-Null Count  Dtype  \n",
      "---  ------                    --------------  -----  \n",
      " 0   Province                  36 non-null     object \n",
      " 1   Annual Yield by Province  36 non-null     float64\n",
      " 2   Crop                      36 non-null     object \n",
      "dtypes: float64(1), object(2)\n",
      "memory usage: 1.1+ KB\n"
     ]
    }
   ],
   "source": [
    "final_annual_yield_df.info()"
   ]
  },
  {
   "cell_type": "code",
   "execution_count": 327,
   "metadata": {},
   "outputs": [],
   "source": [
    "final_weekly_yield_df.to_excel(f\"{OUTPUT_PATH}\\\\{YEAR}_weekly_yield.xlsx\", index=False)\n",
    "final_annual_yield_df.to_excel(f\"{OUTPUT_PATH}\\\\{YEAR}_annual_yield.xlsx\", index=False)"
   ]
  }
 ],
 "metadata": {
  "kernelspec": {
   "display_name": "Python 3",
   "language": "python",
   "name": "python3"
  },
  "language_info": {
   "codemirror_mode": {
    "name": "ipython",
    "version": 3
   },
   "file_extension": ".py",
   "mimetype": "text/x-python",
   "name": "python",
   "nbconvert_exporter": "python",
   "pygments_lexer": "ipython3",
   "version": "3.13.0"
  }
 },
 "nbformat": 4,
 "nbformat_minor": 2
}
